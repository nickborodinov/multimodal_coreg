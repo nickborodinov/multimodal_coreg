{
 "cells": [
  {
   "cell_type": "code",
   "execution_count": 1,
   "metadata": {},
   "outputs": [],
   "source": [
    "import os\n",
    "import numpy as np\n",
    "import matplotlib.pyplot as plt\n",
    "import pickle"
   ]
  },
  {
   "cell_type": "code",
   "execution_count": 2,
   "metadata": {},
   "outputs": [],
   "source": [
    "%matplotlib qt"
   ]
  },
  {
   "cell_type": "code",
   "execution_count": 3,
   "metadata": {},
   "outputs": [],
   "source": []
  },
  {
   "cell_type": "code",
   "execution_count": 24,
   "metadata": {},
   "outputs": [
    {
     "name": "stdout",
     "output_type": "stream",
     "text": [
      "270\n"
     ]
    }
   ],
   "source": [
    "dumpdir_name = r\"F:\\dump dir\\dump\\mean\"\n",
    "with open(os.path.join(dumpdir_name, 'pixel_mask.pik'), 'rb') as f:\n",
    "    mask = pickle.load(f)\n",
    "maldi_files = []\n",
    "sims_files = []\n",
    "maldi_dir = os.path.join(dumpdir_name, 'maldi')\n",
    "sims_dir = os.path.join(dumpdir_name, 'sims')\n",
    "for item in os.listdir(maldi_dir):\n",
    "    item = os.path.join(maldi_dir, item)\n",
    "    if os.path.isfile(item): maldi_files.append(item)\n",
    "for item in os.listdir(sims_dir):\n",
    "    item = os.path.join(sims_dir, item)\n",
    "    if os.path.isfile(item): sims_files.append(item)\n",
    "maldi_masses = []\n",
    "sims_masses = []\n",
    "for file in maldi_files:\n",
    "    path, file = os.path.split(file)\n",
    "    if file == 'pixel_mask.pik': continue\n",
    "    fname, extension = file.split('.')\n",
    "    fname = fname.split('_')\n",
    "    fname = fname[0]+'.'+fname[1]\n",
    "    maldi_masses.append(float(fname))\n",
    "for file in sims_files:\n",
    "    path, file = os.path.split(file)\n",
    "    if file == 'pixel_mask.pik': continue\n",
    "    fname, extension = file.split('.')\n",
    "    fname = fname.split('_')\n",
    "    fname = fname[0]+'.'+fname[1]\n",
    "    sims_masses.append(float(fname))\n",
    "files = maldi_files + sims_files\n",
    "print(len(files))\n"
   ]
  },
  {
   "cell_type": "code",
   "execution_count": 25,
   "metadata": {},
   "outputs": [
    {
     "data": {
      "text/plain": [
       "[101.288,\n",
       " 102.304,\n",
       " 103.247,\n",
       " 104.351,\n",
       " 105.283,\n",
       " 106.239,\n",
       " 107.269,\n",
       " 109.274,\n",
       " 111.328,\n",
       " 115.243,\n",
       " 116.275,\n",
       " 117.29,\n",
       " 118.309,\n",
       " 119.269,\n",
       " 120.201,\n",
       " 121.276,\n",
       " 123.213,\n",
       " 125.253,\n",
       " 127.254,\n",
       " 128.349,\n",
       " 129.283,\n",
       " 130.287,\n",
       " 131.294,\n",
       " 133.287,\n",
       " 135.363,\n",
       " 139.277,\n",
       " 141.261,\n",
       " 142.275,\n",
       " 143.27,\n",
       " 144.327,\n",
       " 145.317,\n",
       " 147.331,\n",
       " 150.379,\n",
       " 151.33,\n",
       " 152.308,\n",
       " 153.278,\n",
       " 154.322,\n",
       " 155.334,\n",
       " 157.283,\n",
       " 158.353,\n",
       " 159.293,\n",
       " 161.266,\n",
       " 163.338,\n",
       " 165.312,\n",
       " 166.334,\n",
       " 167.309,\n",
       " 168.388,\n",
       " 177.271,\n",
       " 181.264,\n",
       " 183.369,\n",
       " 184.511,\n",
       " 185.433,\n",
       " 189.356,\n",
       " 198.469,\n",
       " 222.419,\n",
       " 23.1688,\n",
       " 27.1174,\n",
       " 29.135,\n",
       " 30.1469,\n",
       " 39.1188,\n",
       " 41.1426,\n",
       " 41.8786,\n",
       " 42.1611,\n",
       " 43.1792,\n",
       " 44.1903,\n",
       " 45.1739,\n",
       " 51.1648,\n",
       " 53.1716,\n",
       " 55.2171,\n",
       " 56.1998,\n",
       " 57.2278,\n",
       " 58.2208,\n",
       " 59.2448,\n",
       " 60.2551,\n",
       " 63.1678,\n",
       " 65.1764,\n",
       " 66.1886,\n",
       " 67.2086,\n",
       " 68.2204,\n",
       " 69.2397,\n",
       " 70.2423,\n",
       " 71.3911,\n",
       " 72.3267,\n",
       " 73.2601,\n",
       " 74.2662,\n",
       " 77.1896,\n",
       " 77.462,\n",
       " 78.188,\n",
       " 79.2014,\n",
       " 80.1954,\n",
       " 81.2304,\n",
       " 82.237,\n",
       " 83.2674,\n",
       " 84.2598,\n",
       " 85.285,\n",
       " 86.5323,\n",
       " 87.2995,\n",
       " 88.3065,\n",
       " 89.2643,\n",
       " 91.2881,\n",
       " 92.234,\n",
       " 93.2596,\n",
       " 94.2815,\n",
       " 95.2428,\n",
       " 96.285,\n",
       " 97.3042,\n",
       " 98.2904,\n",
       " 99.2333]"
      ]
     },
     "execution_count": 25,
     "metadata": {},
     "output_type": "execute_result"
    }
   ],
   "source": [
    "sims_masses"
   ]
  },
  {
   "cell_type": "code",
   "execution_count": 26,
   "metadata": {},
   "outputs": [],
   "source": [
    "with open(r\"E:\\TylerData\\Dropbox (ORNL)\\Mouse Brains\\Slide 2 - coronal\\correlation matrix target peaks_maldi.csv\") as f:\n",
    "    lines = f.readlines()\n",
    "lines = [line.split(',') for line in lines]\n",
    "ordered_maldi_targets = []\n",
    "for line in lines[1:]:\n",
    "    t = float(line[2])\n",
    "    if t in maldi_masses: ordered_maldi_targets.append(t)"
   ]
  },
  {
   "cell_type": "code",
   "execution_count": 27,
   "metadata": {},
   "outputs": [
    {
     "name": "stdout",
     "output_type": "stream",
     "text": [
      "[4, 157, 5, 158, 96, 100, 101, 6, 68, 42, 92, 7, 159, 160, 114, 93, 161, 26, 8, 9, 10, 27, 94, 28, 29, 11, 12, 30, 13, 14, 95, 31, 15, 97, 16, 98, 102, 103, 43, 69, 17, 18, 32, 33, 19, 99, 44, 34, 20, 70, 21, 35, 22, 36, 71, 37, 38, 39, 45, 115, 23, 40, 72, 73, 24, 74, 25, 116, 104, 75, 76, 117, 77, 118, 78, 119, 120, 105, 79, 121, 122, 80, 106, 107, 123, 81, 108, 124, 125, 109, 46, 82, 83, 110, 111, 126, 127, 66, 84, 128, 85, 129, 130, 131, 132, 133, 134, 135, 136, 137, 138, 139, 140, 0, 141, 86, 87, 88, 142, 89, 90, 143, 144, 112, 145, 47, 48, 1, 49, 50, 51, 52, 53, 54, 55, 56, 57, 58, 59, 146, 60, 61, 62, 63, 147, 148, 64, 113, 65, 149, 2, 67, 91, 150, 151, 152, 153, 154, 155, 41, 156, 3, 216, 217, 218, 219, 220, 221, 222, 223, 224, 225, 226, 227, 228, 229, 230, 231, 232, 233, 234, 235, 236, 237, 238, 239, 240, 241, 242, 243, 244, 245, 246, 247, 248, 249, 250, 251, 252, 253, 254, 255, 256, 257, 258, 259, 260, 261, 262, 263, 264, 265, 266, 267, 268, 161, 162, 163, 164, 165, 166, 167, 168, 169, 170, 171, 172, 173, 174, 175, 176, 177, 178, 179, 180, 181, 182, 183, 184, 185, 186, 187, 188, 189, 190, 191, 192, 193, 194, 195, 196, 197, 198, 199, 200, 201, 202, 203, 204, 205, 206, 207, 208, 209, 210, 211, 212, 213, 214, 215]\n"
     ]
    }
   ],
   "source": [
    "maldi_ordered_indices = []\n",
    "sims_ordered_indices = []\n",
    "for m in maldi_masses:\n",
    "    try:\n",
    "        maldi_ordered_indices.append(ordered_maldi_targets.index(m))\n",
    "    except:\n",
    "        print(f'no match for {m}')\n",
    "sims_ordered_indices = list(np.argsort(sims_masses) + np.max(maldi_ordered_indices))\n",
    "total_order = maldi_ordered_indices + sims_ordered_indices\n",
    "print(total_order)"
   ]
  },
  {
   "cell_type": "code",
   "execution_count": 28,
   "metadata": {},
   "outputs": [
    {
     "name": "stdout",
     "output_type": "stream",
     "text": [
      "[58.05984, 72.08674, 88.08614, 98.12464, 100.14054, 102.11304, 104.14674, 110.0, 114.16734, 115.11174, 116.09654, 129.14, 129.18, 132.1, 132.20054, 136.06, 138.15, 148.18454, 152.06, 158.19544, 162.61, 164.18394, 169.07794, 187.22114, 191.11, 197.11394, 1142.88, 1186.98, 1231.09, 1275.2, 1319.31, 1363.43, 1539.88, 1584.0, 1628.12, 1672.23, 1716.384, 1760.46, 1804.59, 1848.7, 1892.82, 95.0, 109.0, 147.0, 161.0, 184.0, 369.3519, 721.2, 726.04, 736.13, 752.86, 757.69, 762.62, 770.35, 772.53, 774.21, 780.0, 784.53, 800.67, 807.17, 822.17, 826.6, 828.08, 845.18, 853.89, 870.99, 39.69, 89.354, 104.348, 147.24, 164.115, 172.065, 190.04987, 191.04, 192.049, 208.123, 212.016, 227.984, 233.971, 258.345, 294.029, 332.324, 379.092, 379.09246, 401.109, 417.068, 616.2, 617.2, 618.2, 619.2, 620.2, 900.4, 1104.6, 1133.62, 1228.66, 1347.8, 1046.54, 138.05, 140.07, 160.04, 104.07, 104.1, 146.1, 146.5, 208.1, 258.1, 318.1, 318.6186, 347.6796, 364.07, 386.03, 386.05, 665.2594, 86.971, 112.048, 184.917, 198.888, 222.748, 228.849, 240.893, 250.581, 266.555, 275.593, 320.0, 348.7, 353.964, 386.331, 398.171, 412.701, 425.92, 440.689, 444.92, 458.398, 461.751, 479.911, 499.008, 515.722, 525.9, 541.777, 552.1, 555.82, 610.453, 619.191, 646.798, 648.42, 666.675, 811.991, 849.574, 851.219, 875.256, 903.184, 918.409, 923.07, 939.353, 947.0, 949.673, 976.536, 1014.805, 1032.509, 1116.427, 1125.111, 1138.268]\n"
     ]
    }
   ],
   "source": [
    "print(ordered_targets)"
   ]
  },
  {
   "cell_type": "code",
   "execution_count": null,
   "metadata": {
    "scrolled": true
   },
   "outputs": [
    {
     "name": "stderr",
     "output_type": "stream",
     "text": [
      "C:\\Users\\s4k\\AppData\\Local\\Continuum\\anaconda3\\lib\\site-packages\\numpy\\lib\\function_base.py:1110: RuntimeWarning: Mean of empty slice.\n",
      "  avg = a.mean(axis)\n",
      "C:\\Users\\s4k\\AppData\\Local\\Continuum\\anaconda3\\lib\\site-packages\\numpy\\core\\_methods.py:73: RuntimeWarning: invalid value encountered in true_divide\n",
      "  ret, rcount, out=ret, casting='unsafe', subok=False)\n",
      "C:\\Users\\s4k\\AppData\\Local\\Continuum\\anaconda3\\lib\\site-packages\\numpy\\lib\\function_base.py:3159: RuntimeWarning: Degrees of freedom <= 0 for slice\n",
      "  c = cov(x, y, rowvar)\n",
      "C:\\Users\\s4k\\AppData\\Local\\Continuum\\anaconda3\\lib\\site-packages\\numpy\\lib\\function_base.py:3093: RuntimeWarning: divide by zero encountered in double_scalars\n",
      "  c *= 1. / np.float64(fact)\n",
      "C:\\Users\\s4k\\AppData\\Local\\Continuum\\anaconda3\\lib\\site-packages\\numpy\\lib\\function_base.py:3093: RuntimeWarning: invalid value encountered in multiply\n",
      "  c *= 1. / np.float64(fact)\n"
     ]
    },
    {
     "name": "stdout",
     "output_type": "stream",
     "text": [
      "1 / 270\n",
      "2 / 270\n",
      "3 / 270\n",
      "4 / 270\n",
      "5 / 270\n",
      "6 / 270\n",
      "7 / 270\n",
      "8 / 270\n",
      "9 / 270\n",
      "10 / 270\n",
      "11 / 270\n",
      "12 / 270\n",
      "13 / 270\n",
      "14 / 270\n",
      "15 / 270\n",
      "16 / 270\n",
      "17 / 270\n",
      "18 / 270\n",
      "19 / 270\n",
      "20 / 270\n",
      "21 / 270\n",
      "22 / 270\n",
      "23 / 270\n",
      "24 / 270\n",
      "25 / 270\n",
      "26 / 270\n",
      "27 / 270\n",
      "28 / 270\n",
      "29 / 270\n",
      "30 / 270\n",
      "31 / 270\n",
      "32 / 270\n",
      "33 / 270\n",
      "34 / 270\n",
      "35 / 270\n",
      "36 / 270\n",
      "37 / 270\n",
      "38 / 270\n",
      "39 / 270\n",
      "40 / 270\n",
      "41 / 270\n",
      "42 / 270\n",
      "43 / 270\n",
      "44 / 270\n",
      "45 / 270\n",
      "46 / 270\n",
      "47 / 270\n",
      "48 / 270\n",
      "49 / 270\n",
      "50 / 270\n",
      "51 / 270\n",
      "52 / 270\n",
      "53 / 270\n",
      "54 / 270\n",
      "55 / 270\n",
      "56 / 270\n",
      "57 / 270\n",
      "58 / 270\n",
      "59 / 270\n",
      "60 / 270\n",
      "61 / 270\n",
      "62 / 270\n",
      "63 / 270\n",
      "64 / 270\n",
      "65 / 270\n",
      "66 / 270\n",
      "67 / 270\n",
      "68 / 270\n",
      "69 / 270\n",
      "70 / 270\n",
      "71 / 270\n",
      "72 / 270\n",
      "73 / 270\n",
      "74 / 270\n",
      "75 / 270\n",
      "76 / 270\n",
      "77 / 270\n",
      "78 / 270\n",
      "79 / 270\n",
      "80 / 270\n",
      "81 / 270\n",
      "82 / 270\n",
      "83 / 270\n",
      "84 / 270\n",
      "85 / 270\n",
      "86 / 270\n",
      "87 / 270\n",
      "88 / 270\n",
      "89 / 270\n",
      "90 / 270\n",
      "91 / 270\n",
      "92 / 270\n",
      "93 / 270\n",
      "94 / 270\n",
      "95 / 270\n",
      "96 / 270\n",
      "97 / 270\n",
      "98 / 270\n",
      "99 / 270\n",
      "100 / 270\n",
      "101 / 270\n",
      "102 / 270\n",
      "103 / 270\n",
      "104 / 270\n",
      "105 / 270\n",
      "106 / 270\n",
      "107 / 270\n",
      "108 / 270\n",
      "109 / 270\n",
      "110 / 270\n",
      "111 / 270\n",
      "112 / 270\n",
      "113 / 270\n",
      "114 / 270\n",
      "115 / 270\n",
      "116 / 270\n",
      "117 / 270\n",
      "118 / 270\n",
      "119 / 270\n",
      "120 / 270\n",
      "121 / 270\n",
      "122 / 270\n",
      "123 / 270\n",
      "124 / 270\n",
      "125 / 270\n",
      "126 / 270\n",
      "127 / 270\n",
      "128 / 270\n",
      "129 / 270\n",
      "130 / 270\n",
      "131 / 270\n",
      "132 / 270\n"
     ]
    }
   ],
   "source": [
    "pearson_c_mat, pearson_order = correlation_matrix_splitColumns(files, mode='pearson', order=total_order, mask=mask)"
   ]
  },
  {
   "cell_type": "code",
   "execution_count": null,
   "metadata": {},
   "outputs": [],
   "source": [
    "plt.imshow(pearson_c_mat[0])\n",
    "plt.colorbar()\n",
    "plt.savefig('pearsonMatrix_merged_mean_masked.png', transparent=True)"
   ]
  },
  {
   "cell_type": "code",
   "execution_count": null,
   "metadata": {},
   "outputs": [],
   "source": [
    "with open(os.path.join(dumpdir_name, 'pearson_cmat_mean_masked.pik'), 'wb') as f:\n",
    "    pickle.dump(pearson_c_mat[0], f)"
   ]
  },
  {
   "cell_type": "code",
   "execution_count": 9,
   "metadata": {},
   "outputs": [
    {
     "ename": "KeyboardInterrupt",
     "evalue": "",
     "output_type": "error",
     "traceback": [
      "\u001b[1;31m---------------------------------------------------------------------------\u001b[0m",
      "\u001b[1;31mKeyboardInterrupt\u001b[0m                         Traceback (most recent call last)",
      "\u001b[1;32m<ipython-input-9-8eb8c791f5d1>\u001b[0m in \u001b[0;36m<module>\u001b[1;34m()\u001b[0m\n\u001b[1;32m----> 1\u001b[1;33m \u001b[0mspearman_c_mat\u001b[0m \u001b[1;33m=\u001b[0m \u001b[0mcorrelation_matrix\u001b[0m\u001b[1;33m(\u001b[0m\u001b[0mbody\u001b[0m\u001b[1;33m,\u001b[0m \u001b[0mmode\u001b[0m\u001b[1;33m=\u001b[0m\u001b[1;34m'spearman'\u001b[0m\u001b[1;33m)\u001b[0m\u001b[1;33m\u001b[0m\u001b[0m\n\u001b[0m",
      "\u001b[1;32m<ipython-input-2-284beefe6bfe>\u001b[0m in \u001b[0;36mcorrelation_matrix\u001b[1;34m(data, mode)\u001b[0m\n\u001b[0;32m      5\u001b[0m         \u001b[1;32mfor\u001b[0m \u001b[0mjdx\u001b[0m\u001b[1;33m,\u001b[0m \u001b[0ma2\u001b[0m \u001b[1;32min\u001b[0m \u001b[0menumerate\u001b[0m\u001b[1;33m(\u001b[0m\u001b[0mdata\u001b[0m\u001b[1;33m[\u001b[0m\u001b[1;33m:\u001b[0m\u001b[0midx\u001b[0m\u001b[1;33m+\u001b[0m\u001b[1;36m1\u001b[0m\u001b[1;33m]\u001b[0m\u001b[1;33m)\u001b[0m\u001b[1;33m:\u001b[0m\u001b[1;33m\u001b[0m\u001b[0m\n\u001b[0;32m      6\u001b[0m             \u001b[1;32mif\u001b[0m \u001b[0mmode\u001b[0m\u001b[1;33m.\u001b[0m\u001b[0mupper\u001b[0m\u001b[1;33m(\u001b[0m\u001b[1;33m)\u001b[0m \u001b[1;33m==\u001b[0m \u001b[1;34m'PEARSON'\u001b[0m\u001b[1;33m:\u001b[0m \u001b[0mc_matrix\u001b[0m\u001b[1;33m[\u001b[0m\u001b[0midx\u001b[0m\u001b[1;33m,\u001b[0m \u001b[0mjdx\u001b[0m\u001b[1;33m]\u001b[0m \u001b[1;33m=\u001b[0m \u001b[0mc_matrix\u001b[0m\u001b[1;33m[\u001b[0m\u001b[0mjdx\u001b[0m\u001b[1;33m,\u001b[0m \u001b[0midx\u001b[0m\u001b[1;33m]\u001b[0m \u001b[1;33m=\u001b[0m \u001b[0mnp\u001b[0m\u001b[1;33m.\u001b[0m\u001b[0mcorrcoef\u001b[0m\u001b[1;33m(\u001b[0m\u001b[0ma1\u001b[0m\u001b[1;33m,\u001b[0m\u001b[0ma2\u001b[0m\u001b[1;33m)\u001b[0m\u001b[1;33m[\u001b[0m\u001b[1;36m0\u001b[0m\u001b[1;33m,\u001b[0m\u001b[1;36m1\u001b[0m\u001b[1;33m]\u001b[0m\u001b[1;33m\u001b[0m\u001b[0m\n\u001b[1;32m----> 7\u001b[1;33m             \u001b[1;32melif\u001b[0m \u001b[0mmode\u001b[0m\u001b[1;33m.\u001b[0m\u001b[0mupper\u001b[0m\u001b[1;33m(\u001b[0m\u001b[1;33m)\u001b[0m \u001b[1;33m==\u001b[0m \u001b[1;34m'SPEARMAN'\u001b[0m\u001b[1;33m:\u001b[0m \u001b[0mc_matrix\u001b[0m\u001b[1;33m[\u001b[0m\u001b[0midx\u001b[0m\u001b[1;33m,\u001b[0m \u001b[0mjdx\u001b[0m\u001b[1;33m]\u001b[0m \u001b[1;33m=\u001b[0m \u001b[0mc_matrix\u001b[0m\u001b[1;33m[\u001b[0m\u001b[0mjdx\u001b[0m\u001b[1;33m,\u001b[0m \u001b[0midx\u001b[0m\u001b[1;33m]\u001b[0m \u001b[1;33m=\u001b[0m \u001b[0mspearmanr\u001b[0m\u001b[1;33m(\u001b[0m\u001b[0ma1\u001b[0m\u001b[1;33m,\u001b[0m\u001b[0ma2\u001b[0m\u001b[1;33m)\u001b[0m\u001b[1;33m[\u001b[0m\u001b[1;36m0\u001b[0m\u001b[1;33m]\u001b[0m\u001b[1;33m\u001b[0m\u001b[0m\n\u001b[0m\u001b[0;32m      8\u001b[0m             \u001b[1;32melif\u001b[0m \u001b[0mmode\u001b[0m\u001b[1;33m.\u001b[0m\u001b[0mupper\u001b[0m\u001b[1;33m(\u001b[0m\u001b[1;33m)\u001b[0m \u001b[1;33m==\u001b[0m \u001b[1;34m'KENDALL'\u001b[0m\u001b[1;33m:\u001b[0m \u001b[0mc_matrix\u001b[0m\u001b[1;33m[\u001b[0m\u001b[0midx\u001b[0m\u001b[1;33m,\u001b[0m \u001b[0mjdx\u001b[0m\u001b[1;33m]\u001b[0m \u001b[1;33m=\u001b[0m \u001b[0mc_matrix\u001b[0m\u001b[1;33m[\u001b[0m\u001b[0mjdx\u001b[0m\u001b[1;33m,\u001b[0m \u001b[0midx\u001b[0m\u001b[1;33m]\u001b[0m \u001b[1;33m=\u001b[0m \u001b[0mkendalltau\u001b[0m\u001b[1;33m(\u001b[0m\u001b[0ma1\u001b[0m\u001b[1;33m,\u001b[0m\u001b[0ma2\u001b[0m\u001b[1;33m)\u001b[0m\u001b[1;33m[\u001b[0m\u001b[1;36m0\u001b[0m\u001b[1;33m]\u001b[0m\u001b[1;33m\u001b[0m\u001b[0m\n\u001b[0;32m      9\u001b[0m     \u001b[1;32mreturn\u001b[0m \u001b[0mc_matrix\u001b[0m\u001b[1;33m\u001b[0m\u001b[0m\n",
      "\u001b[1;32m~\\AppData\\Local\\Continuum\\anaconda3\\lib\\site-packages\\scipy\\stats\\stats.py\u001b[0m in \u001b[0;36mspearmanr\u001b[1;34m(a, b, axis, nan_policy)\u001b[0m\n\u001b[0;32m   3287\u001b[0m     \u001b[0ma\u001b[0m\u001b[1;33m,\u001b[0m \u001b[0maxisout\u001b[0m \u001b[1;33m=\u001b[0m \u001b[0m_chk_asarray\u001b[0m\u001b[1;33m(\u001b[0m\u001b[0ma\u001b[0m\u001b[1;33m,\u001b[0m \u001b[0maxis\u001b[0m\u001b[1;33m)\u001b[0m\u001b[1;33m\u001b[0m\u001b[0m\n\u001b[0;32m   3288\u001b[0m \u001b[1;33m\u001b[0m\u001b[0m\n\u001b[1;32m-> 3289\u001b[1;33m     \u001b[0ma_contains_nan\u001b[0m\u001b[1;33m,\u001b[0m \u001b[0mnan_policy\u001b[0m \u001b[1;33m=\u001b[0m \u001b[0m_contains_nan\u001b[0m\u001b[1;33m(\u001b[0m\u001b[0ma\u001b[0m\u001b[1;33m,\u001b[0m \u001b[0mnan_policy\u001b[0m\u001b[1;33m)\u001b[0m\u001b[1;33m\u001b[0m\u001b[0m\n\u001b[0m\u001b[0;32m   3290\u001b[0m \u001b[1;33m\u001b[0m\u001b[0m\n\u001b[0;32m   3291\u001b[0m     \u001b[1;32mif\u001b[0m \u001b[0ma_contains_nan\u001b[0m\u001b[1;33m:\u001b[0m\u001b[1;33m\u001b[0m\u001b[0m\n",
      "\u001b[1;32m~\\AppData\\Local\\Continuum\\anaconda3\\lib\\site-packages\\scipy\\stats\\stats.py\u001b[0m in \u001b[0;36m_contains_nan\u001b[1;34m(a, nan_policy)\u001b[0m\n\u001b[0;32m    235\u001b[0m         \u001b[1;31m# e.g. np.isnan(a).any()\u001b[0m\u001b[1;33m\u001b[0m\u001b[1;33m\u001b[0m\u001b[0m\n\u001b[0;32m    236\u001b[0m         \u001b[1;32mwith\u001b[0m \u001b[0mnp\u001b[0m\u001b[1;33m.\u001b[0m\u001b[0merrstate\u001b[0m\u001b[1;33m(\u001b[0m\u001b[0minvalid\u001b[0m\u001b[1;33m=\u001b[0m\u001b[1;34m'ignore'\u001b[0m\u001b[1;33m)\u001b[0m\u001b[1;33m:\u001b[0m\u001b[1;33m\u001b[0m\u001b[0m\n\u001b[1;32m--> 237\u001b[1;33m             \u001b[0mcontains_nan\u001b[0m \u001b[1;33m=\u001b[0m \u001b[0mnp\u001b[0m\u001b[1;33m.\u001b[0m\u001b[0misnan\u001b[0m\u001b[1;33m(\u001b[0m\u001b[0mnp\u001b[0m\u001b[1;33m.\u001b[0m\u001b[0msum\u001b[0m\u001b[1;33m(\u001b[0m\u001b[0ma\u001b[0m\u001b[1;33m)\u001b[0m\u001b[1;33m)\u001b[0m\u001b[1;33m\u001b[0m\u001b[0m\n\u001b[0m\u001b[0;32m    238\u001b[0m     \u001b[1;32mexcept\u001b[0m \u001b[0mTypeError\u001b[0m\u001b[1;33m:\u001b[0m\u001b[1;33m\u001b[0m\u001b[0m\n\u001b[0;32m    239\u001b[0m         \u001b[1;31m# If the check cannot be properly performed we fallback to omitting\u001b[0m\u001b[1;33m\u001b[0m\u001b[1;33m\u001b[0m\u001b[0m\n",
      "\u001b[1;32m~\\AppData\\Local\\Continuum\\anaconda3\\lib\\site-packages\\numpy\\core\\fromnumeric.py\u001b[0m in \u001b[0;36msum\u001b[1;34m(a, axis, dtype, out, keepdims)\u001b[0m\n\u001b[0;32m   1832\u001b[0m             \u001b[1;32mreturn\u001b[0m \u001b[0msum\u001b[0m\u001b[1;33m(\u001b[0m\u001b[0maxis\u001b[0m\u001b[1;33m=\u001b[0m\u001b[0maxis\u001b[0m\u001b[1;33m,\u001b[0m \u001b[0mdtype\u001b[0m\u001b[1;33m=\u001b[0m\u001b[0mdtype\u001b[0m\u001b[1;33m,\u001b[0m \u001b[0mout\u001b[0m\u001b[1;33m=\u001b[0m\u001b[0mout\u001b[0m\u001b[1;33m,\u001b[0m \u001b[1;33m**\u001b[0m\u001b[0mkwargs\u001b[0m\u001b[1;33m)\u001b[0m\u001b[1;33m\u001b[0m\u001b[0m\n\u001b[0;32m   1833\u001b[0m     return _methods._sum(a, axis=axis, dtype=dtype,\n\u001b[1;32m-> 1834\u001b[1;33m                          out=out, **kwargs)\n\u001b[0m\u001b[0;32m   1835\u001b[0m \u001b[1;33m\u001b[0m\u001b[0m\n\u001b[0;32m   1836\u001b[0m \u001b[1;33m\u001b[0m\u001b[0m\n",
      "\u001b[1;32m~\\AppData\\Local\\Continuum\\anaconda3\\lib\\site-packages\\numpy\\core\\_methods.py\u001b[0m in \u001b[0;36m_sum\u001b[1;34m(a, axis, dtype, out, keepdims)\u001b[0m\n\u001b[0;32m     30\u001b[0m \u001b[1;33m\u001b[0m\u001b[0m\n\u001b[0;32m     31\u001b[0m \u001b[1;32mdef\u001b[0m \u001b[0m_sum\u001b[0m\u001b[1;33m(\u001b[0m\u001b[0ma\u001b[0m\u001b[1;33m,\u001b[0m \u001b[0maxis\u001b[0m\u001b[1;33m=\u001b[0m\u001b[1;32mNone\u001b[0m\u001b[1;33m,\u001b[0m \u001b[0mdtype\u001b[0m\u001b[1;33m=\u001b[0m\u001b[1;32mNone\u001b[0m\u001b[1;33m,\u001b[0m \u001b[0mout\u001b[0m\u001b[1;33m=\u001b[0m\u001b[1;32mNone\u001b[0m\u001b[1;33m,\u001b[0m \u001b[0mkeepdims\u001b[0m\u001b[1;33m=\u001b[0m\u001b[1;32mFalse\u001b[0m\u001b[1;33m)\u001b[0m\u001b[1;33m:\u001b[0m\u001b[1;33m\u001b[0m\u001b[0m\n\u001b[1;32m---> 32\u001b[1;33m     \u001b[1;32mreturn\u001b[0m \u001b[0mumr_sum\u001b[0m\u001b[1;33m(\u001b[0m\u001b[0ma\u001b[0m\u001b[1;33m,\u001b[0m \u001b[0maxis\u001b[0m\u001b[1;33m,\u001b[0m \u001b[0mdtype\u001b[0m\u001b[1;33m,\u001b[0m \u001b[0mout\u001b[0m\u001b[1;33m,\u001b[0m \u001b[0mkeepdims\u001b[0m\u001b[1;33m)\u001b[0m\u001b[1;33m\u001b[0m\u001b[0m\n\u001b[0m\u001b[0;32m     33\u001b[0m \u001b[1;33m\u001b[0m\u001b[0m\n\u001b[0;32m     34\u001b[0m \u001b[1;32mdef\u001b[0m \u001b[0m_prod\u001b[0m\u001b[1;33m(\u001b[0m\u001b[0ma\u001b[0m\u001b[1;33m,\u001b[0m \u001b[0maxis\u001b[0m\u001b[1;33m=\u001b[0m\u001b[1;32mNone\u001b[0m\u001b[1;33m,\u001b[0m \u001b[0mdtype\u001b[0m\u001b[1;33m=\u001b[0m\u001b[1;32mNone\u001b[0m\u001b[1;33m,\u001b[0m \u001b[0mout\u001b[0m\u001b[1;33m=\u001b[0m\u001b[1;32mNone\u001b[0m\u001b[1;33m,\u001b[0m \u001b[0mkeepdims\u001b[0m\u001b[1;33m=\u001b[0m\u001b[1;32mFalse\u001b[0m\u001b[1;33m)\u001b[0m\u001b[1;33m:\u001b[0m\u001b[1;33m\u001b[0m\u001b[0m\n",
      "\u001b[1;31mKeyboardInterrupt\u001b[0m: "
     ]
    }
   ],
   "source": [
    "spearman_c_mat = correlation_matrix_splitColumns(body, mode='spearman')"
   ]
  },
  {
   "cell_type": "code",
   "execution_count": null,
   "metadata": {},
   "outputs": [],
   "source": [
    "plt.imshow(spearman_c_mat)"
   ]
  },
  {
   "cell_type": "code",
   "execution_count": null,
   "metadata": {},
   "outputs": [],
   "source": [
    "kendall_c_mat = correlation_matrix(body, mode='kendall')"
   ]
  },
  {
   "cell_type": "code",
   "execution_count": null,
   "metadata": {},
   "outputs": [],
   "source": [
    "plt.imshow(kendall_c_mat)"
   ]
  },
  {
   "cell_type": "code",
   "execution_count": 12,
   "metadata": {},
   "outputs": [],
   "source": [
    "body1 = body[:100]"
   ]
  },
  {
   "cell_type": "code",
   "execution_count": 39,
   "metadata": {},
   "outputs": [],
   "source": [
    "\n",
    "if body.shape[1] == 162:\n",
    "    pass\n",
    "else:\n",
    "    body = body.transpose()\n",
    "with open('maldi_peaks_stripped.csv','w') as f:\n",
    "    header = ''\n",
    "    for value in headers:\n",
    "        header += str(value) + ','\n",
    "    header = header[:-1] + '\\n'\n",
    "    f.write(header)\n",
    "    for line in body:\n",
    "        line = ''\n",
    "        for value in line:\n",
    "            line += str(value) + ','\n",
    "        line = line[:-1] + '\\n'\n",
    "        f.write(line)\n",
    "\n",
    "    "
   ]
  },
  {
   "cell_type": "code",
   "execution_count": 10,
   "metadata": {},
   "outputs": [
    {
     "ename": "NameError",
     "evalue": "name 'exclude' is not defined",
     "output_type": "error",
     "traceback": [
      "\u001b[1;31m---------------------------------------------------------------------------\u001b[0m",
      "\u001b[1;31mNameError\u001b[0m                                 Traceback (most recent call last)",
      "\u001b[1;32m<ipython-input-10-d5bbd633bf9a>\u001b[0m in \u001b[0;36m<module>\u001b[1;34m()\u001b[0m\n\u001b[1;32m----> 1\u001b[1;33m \u001b[0mexclude\u001b[0m\u001b[1;33m\u001b[0m\u001b[0m\n\u001b[0m",
      "\u001b[1;31mNameError\u001b[0m: name 'exclude' is not defined"
     ]
    }
   ],
   "source": [
    "exclude = [100,101,102,103,104,105,106,107,108,109,110,111,112,113,114,115,116]\n",
    "body.delete(exclude)"
   ]
  },
  {
   "cell_type": "code",
   "execution_count": 20,
   "metadata": {},
   "outputs": [
    {
     "data": {
      "text/plain": [
       "162"
      ]
     },
     "execution_count": 20,
     "metadata": {},
     "output_type": "execute_result"
    }
   ],
   "source": [
    "184 - len(exclude)"
   ]
  },
  {
   "cell_type": "code",
   "execution_count": 25,
   "metadata": {},
   "outputs": [
    {
     "data": {
      "text/plain": [
       "7860825"
      ]
     },
     "execution_count": 25,
     "metadata": {},
     "output_type": "execute_result"
    }
   ],
   "source": [
    "len(body[182])"
   ]
  },
  {
   "cell_type": "code",
   "execution_count": 27,
   "metadata": {},
   "outputs": [],
   "source": [
    "new_body = np.empty(shape = (162, 7860825))"
   ]
  },
  {
   "cell_type": "code",
   "execution_count": 28,
   "metadata": {},
   "outputs": [],
   "source": [
    "for i in range(100):\n",
    "    new_body[i] = body[i]"
   ]
  },
  {
   "cell_type": "code",
   "execution_count": 9,
   "metadata": {},
   "outputs": [
    {
     "ename": "NameError",
     "evalue": "name 'exclude' is not defined",
     "output_type": "error",
     "traceback": [
      "\u001b[1;31m---------------------------------------------------------------------------\u001b[0m",
      "\u001b[1;31mNameError\u001b[0m                                 Traceback (most recent call last)",
      "\u001b[1;32m<ipython-input-9-d418a7b5eb72>\u001b[0m in \u001b[0;36m<module>\u001b[1;34m()\u001b[0m\n\u001b[0;32m      1\u001b[0m \u001b[0mi\u001b[0m \u001b[1;33m=\u001b[0m \u001b[1;36m0\u001b[0m\u001b[1;33m\u001b[0m\u001b[0m\n\u001b[0;32m      2\u001b[0m \u001b[1;32mfor\u001b[0m \u001b[0midx\u001b[0m\u001b[1;33m,\u001b[0m \u001b[0mline\u001b[0m \u001b[1;32min\u001b[0m \u001b[0menumerate\u001b[0m\u001b[1;33m(\u001b[0m\u001b[0mbody\u001b[0m\u001b[1;33m)\u001b[0m\u001b[1;33m:\u001b[0m\u001b[1;33m\u001b[0m\u001b[0m\n\u001b[1;32m----> 3\u001b[1;33m     \u001b[1;32mif\u001b[0m \u001b[0midx\u001b[0m \u001b[1;32mnot\u001b[0m \u001b[1;32min\u001b[0m \u001b[0mexclude\u001b[0m\u001b[1;33m:\u001b[0m\u001b[1;33m\u001b[0m\u001b[0m\n\u001b[0m\u001b[0;32m      4\u001b[0m         \u001b[0mnew_body\u001b[0m\u001b[1;33m[\u001b[0m\u001b[0mi\u001b[0m\u001b[1;33m]\u001b[0m \u001b[1;33m=\u001b[0m \u001b[0mline\u001b[0m\u001b[1;33m\u001b[0m\u001b[0m\n\u001b[0;32m      5\u001b[0m         \u001b[0mi\u001b[0m\u001b[1;33m+=\u001b[0m\u001b[1;36m1\u001b[0m\u001b[1;33m\u001b[0m\u001b[0m\n",
      "\u001b[1;31mNameError\u001b[0m: name 'exclude' is not defined"
     ]
    }
   ],
   "source": [
    "i = 0\n",
    "for idx, line in enumerate(body):\n",
    "    if idx not in exclude:\n",
    "        new_body[i] = line\n",
    "        i+=1"
   ]
  },
  {
   "cell_type": "code",
   "execution_count": 31,
   "metadata": {},
   "outputs": [],
   "source": [
    "body = new_body"
   ]
  },
  {
   "cell_type": "code",
   "execution_count": 32,
   "metadata": {},
   "outputs": [],
   "source": [
    "del new_body"
   ]
  },
  {
   "cell_type": "code",
   "execution_count": 34,
   "metadata": {},
   "outputs": [
    {
     "data": {
      "text/plain": [
       "162"
      ]
     },
     "execution_count": 34,
     "metadata": {},
     "output_type": "execute_result"
    }
   ],
   "source": [
    "len(body)"
   ]
  },
  {
   "cell_type": "code",
   "execution_count": null,
   "metadata": {},
   "outputs": [],
   "source": []
  }
 ],
 "metadata": {
  "kernelspec": {
   "display_name": "Python 3",
   "language": "python",
   "name": "python3"
  },
  "language_info": {
   "codemirror_mode": {
    "name": "ipython",
    "version": 3
   },
   "file_extension": ".py",
   "mimetype": "text/x-python",
   "name": "python",
   "nbconvert_exporter": "python",
   "pygments_lexer": "ipython3",
   "version": "3.6.5"
  }
 },
 "nbformat": 4,
 "nbformat_minor": 2
}
